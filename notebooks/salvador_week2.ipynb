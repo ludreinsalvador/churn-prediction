{
  "nbformat": 4,
  "nbformat_minor": 0,
  "metadata": {
    "colab": {
      "provenance": []
    },
    "kernelspec": {
      "name": "python3",
      "display_name": "Python 3"
    },
    "language_info": {
      "name": "python"
    }
  },
  "cells": [
    {
      "cell_type": "markdown",
      "source": [
        "# Week 2 - Business and Data Understanding"
      ],
      "metadata": {
        "id": "f3RXVEsRMss7"
      }
    },
    {
      "cell_type": "markdown",
      "source": [
        "# Activity\n",
        "\n",
        "**Goal:** Replicate live demo notebook into individual lab notebook\n",
        "\n",
        "**Data To Be Used:** week2_data_for_student_lab.csv.gz"
      ],
      "metadata": {
        "id": "dCIpMqAoctQO"
      }
    },
    {
      "cell_type": "code",
      "execution_count": 1,
      "metadata": {
        "colab": {
          "base_uri": "https://localhost:8080/"
        },
        "id": "MWDltgQad7n_",
        "outputId": "20bc8144-1d0b-4672-c407-8ac4830df6f4"
      },
      "outputs": [
        {
          "output_type": "stream",
          "name": "stdout",
          "text": [
            "Requirement already satisfied: pyspark in /usr/local/lib/python3.11/dist-packages (3.5.4)\n",
            "Requirement already satisfied: py4j==0.10.9.7 in /usr/local/lib/python3.11/dist-packages (from pyspark) (0.10.9.7)\n",
            "Collecting findspark\n",
            "  Downloading findspark-2.0.1-py2.py3-none-any.whl.metadata (352 bytes)\n",
            "Downloading findspark-2.0.1-py2.py3-none-any.whl (4.4 kB)\n",
            "Installing collected packages: findspark\n",
            "Successfully installed findspark-2.0.1\n"
          ]
        }
      ],
      "source": [
        "!pip install pyspark\n",
        "!pip install findspark"
      ]
    },
    {
      "cell_type": "code",
      "source": [
        "import findspark\n",
        "findspark.init()\n",
        "from pyspark.sql import SparkSession\n",
        "\n",
        "spark = SparkSession.builder \\\n",
        "        .master('local[*]') \\\n",
        "        .appName('Basics') \\\n",
        "        .getOrCreate()\n",
        "\n",
        "print(spark.version)"
      ],
      "metadata": {
        "colab": {
          "base_uri": "https://localhost:8080/"
        },
        "id": "6SRy-PeVhR7P",
        "outputId": "4028e703-c20a-4fd3-fc2f-f8db886ffb65"
      },
      "execution_count": 2,
      "outputs": [
        {
          "output_type": "stream",
          "name": "stdout",
          "text": [
            "3.5.4\n"
          ]
        }
      ]
    },
    {
      "cell_type": "code",
      "source": [
        "df_2018 = spark.read.csv(f\"/content/drive/MyDrive/ TERM 7/MACHINE/churn_prediction/data/week2_data_for_student_lab.csv.gz\", inferSchema=True, header=True)\n",
        "df_2018.show(5)"
      ],
      "metadata": {
        "colab": {
          "base_uri": "https://localhost:8080/"
        },
        "id": "pfdLYC3ThSle",
        "outputId": "7af597a8-3ff2-410e-af3b-0b13eaaa2917"
      },
      "execution_count": 3,
      "outputs": [
        {
          "output_type": "stream",
          "name": "stdout",
          "text": [
            "+----------------+-----------+--------------------+------+-------+--------+------+-----+---------+-----------+------+-------------+\n",
            "|transaction_date|member_type|           member_id|gender|product|quantity|amount|  age|card_type|branch_name|region|category_name|\n",
            "+----------------+-----------+--------------------+------+-------+--------+------+-----+---------+-----------+------+-------------+\n",
            "|      2018-04-01|     member|ff96777d-cfda-11e...|FEMALE|   3267|      16|  5100|30-35|  REGULAR|    E_Store|     3|  FROZEN FOOD|\n",
            "|      2018-04-09|     member|00d89024-cfdb-11e...|FEMALE|   6748|       1|  1100|55-60|  REGULAR|    A_Store|     1|          PET|\n",
            "|      2018-04-01|     member|00858b3b-cfdb-11e...|FEMALE|    420|       4|  5300|55-60|  REGULAR|    A_Store|     1|          PET|\n",
            "|      2018-04-13|     member|001035ed-cfdb-11e...|FEMALE|   3178|      16|  5600|45-50|  REGULAR|    A_Store|     1|      GADGETS|\n",
            "|      2018-04-15|     member|ff5fafeb-cfda-11e...|FEMALE|   2727|      19|  7600|25-30|  REGULAR|    A_Store|     1|      CLOTHES|\n",
            "+----------------+-----------+--------------------+------+-------+--------+------+-----+---------+-----------+------+-------------+\n",
            "only showing top 5 rows\n",
            "\n"
          ]
        }
      ]
    },
    {
      "cell_type": "code",
      "source": [
        "df_2018.createOrReplaceTempView(\"df_2018_view\")"
      ],
      "metadata": {
        "id": "L-sBkiTvjsMt"
      },
      "execution_count": 4,
      "outputs": []
    },
    {
      "cell_type": "code",
      "source": [
        "spark.sql('''\n",
        "  SELECT\n",
        "    *\n",
        "  FROM\n",
        "    df_2018_view\n",
        "  LIMIT\n",
        "    5\n",
        "  ''').show()"
      ],
      "metadata": {
        "colab": {
          "base_uri": "https://localhost:8080/"
        },
        "id": "QNjMLmBtj4ld",
        "outputId": "829bca86-a788-4ddc-c4e7-7b33cc72876d"
      },
      "execution_count": 5,
      "outputs": [
        {
          "output_type": "stream",
          "name": "stdout",
          "text": [
            "+----------------+-----------+--------------------+------+-------+--------+------+-----+---------+-----------+------+-------------+\n",
            "|transaction_date|member_type|           member_id|gender|product|quantity|amount|  age|card_type|branch_name|region|category_name|\n",
            "+----------------+-----------+--------------------+------+-------+--------+------+-----+---------+-----------+------+-------------+\n",
            "|      2018-04-01|     member|ff96777d-cfda-11e...|FEMALE|   3267|      16|  5100|30-35|  REGULAR|    E_Store|     3|  FROZEN FOOD|\n",
            "|      2018-04-09|     member|00d89024-cfdb-11e...|FEMALE|   6748|       1|  1100|55-60|  REGULAR|    A_Store|     1|          PET|\n",
            "|      2018-04-01|     member|00858b3b-cfdb-11e...|FEMALE|    420|       4|  5300|55-60|  REGULAR|    A_Store|     1|          PET|\n",
            "|      2018-04-13|     member|001035ed-cfdb-11e...|FEMALE|   3178|      16|  5600|45-50|  REGULAR|    A_Store|     1|      GADGETS|\n",
            "|      2018-04-15|     member|ff5fafeb-cfda-11e...|FEMALE|   2727|      19|  7600|25-30|  REGULAR|    A_Store|     1|      CLOTHES|\n",
            "+----------------+-----------+--------------------+------+-------+--------+------+-----+---------+-----------+------+-------------+\n",
            "\n"
          ]
        }
      ]
    },
    {
      "cell_type": "code",
      "source": [
        "spark.sql('''\n",
        "  SELECT\n",
        "    COUNT(DISTINCT member_id)\n",
        "  FROM\n",
        "    df_2018_view\n",
        "  ''').show()"
      ],
      "metadata": {
        "colab": {
          "base_uri": "https://localhost:8080/"
        },
        "id": "INbzW_26l1Nn",
        "outputId": "bf36fa44-944d-4e1e-c3d0-e1c5d9a004cd"
      },
      "execution_count": 6,
      "outputs": [
        {
          "output_type": "stream",
          "name": "stdout",
          "text": [
            "+-------------------------+\n",
            "|count(DISTINCT member_id)|\n",
            "+-------------------------+\n",
            "|                   356982|\n",
            "+-------------------------+\n",
            "\n"
          ]
        }
      ]
    },
    {
      "cell_type": "code",
      "source": [
        "spark.sql('''\n",
        "  SELECT\n",
        "    COUNT (DISTINCT member_id)\n",
        "  FROM\n",
        "    df_2018_view\n",
        "  WHERE\n",
        "    transaction_date BETWEEN '2018-04-01' AND '2018-04-30'\n",
        "''').show()"
      ],
      "metadata": {
        "colab": {
          "base_uri": "https://localhost:8080/"
        },
        "id": "HCbFrOdcmRTR",
        "outputId": "24d49049-784b-4aa4-de89-b78a68a27191"
      },
      "execution_count": 7,
      "outputs": [
        {
          "output_type": "stream",
          "name": "stdout",
          "text": [
            "+-------------------------+\n",
            "|count(DISTINCT member_id)|\n",
            "+-------------------------+\n",
            "|                   101637|\n",
            "+-------------------------+\n",
            "\n"
          ]
        }
      ]
    },
    {
      "cell_type": "code",
      "source": [
        "# Sliced Data: JAN, FEB, MAR\n",
        "spark.sql('''\n",
        "WITH\n",
        "customers_in_april AS (\n",
        "SELECT\n",
        "  DISTINCT member_id\n",
        "FROM\n",
        "  df_2018_view\n",
        "WHERE\n",
        "  transaction_date BETWEEN '2018-04-01' AND '2018-04-30'\n",
        ")\n",
        ",customers_in_april_joined_with_past_3_months_txn AS (\n",
        "SELECT\n",
        "  a.member_id\n",
        "  ,b.quantity\n",
        "  ,b.transaction_date\n",
        "FROM\n",
        "  customers_in_april AS a\n",
        "LEFT JOIN\n",
        "  df_2018_view AS b\n",
        "ON\n",
        "  a.member_id = b.member_id\n",
        "WHERE\n",
        "  b.transaction_date BETWEEN '2018-01-01' AND '2018-03-31'\n",
        ")\n",
        ",aggregated_total_txns_per_month AS (\n",
        "SELECT\n",
        "   member_id\n",
        "  -- Jan transaction count\n",
        "  ,SUM(CASE WHEN transaction_date BETWEEN '2018-01-01' AND '2018-01-31' THEN quantity ELSE 0 END) AS pm3_total_txn\n",
        "  -- Feb transaction count\n",
        "  ,SUM(CASE WHEN transaction_date BETWEEN '2018-02-01' AND '2018-02-28' THEN quantity ELSE 0 END) AS pm2_total_txn\n",
        "  -- Mar transaction count\n",
        "  ,SUM(CASE WHEN transaction_date BETWEEN '2018-03-01' AND '2018-03-31' THEN quantity ELSE 0 END) AS pm1_total_txn\n",
        "FROM\n",
        "  customers_in_april_joined_with_past_3_months_txn\n",
        "GROUP BY\n",
        "  member_id\n",
        ")\n",
        "SELECT\n",
        "  *\n",
        "FROM\n",
        "  aggregated_total_txns_per_month\n",
        "LIMIT\n",
        "  5\n",
        "''').show()"
      ],
      "metadata": {
        "colab": {
          "base_uri": "https://localhost:8080/"
        },
        "id": "dZk3yynBnsK5",
        "outputId": "30951875-de99-41ba-d243-d82228da51e4"
      },
      "execution_count": 8,
      "outputs": [
        {
          "output_type": "stream",
          "name": "stdout",
          "text": [
            "+--------------------+-------------+-------------+-------------+\n",
            "|           member_id|pm3_total_txn|pm2_total_txn|pm1_total_txn|\n",
            "+--------------------+-------------+-------------+-------------+\n",
            "|0070f220-cfdb-11e...|            8|            0|           33|\n",
            "|00e2f0bd-cfdb-11e...|            0|            0|           13|\n",
            "|ff222fee-cfda-11e...|            0|            0|           29|\n",
            "|ffd94d9e-cfda-11e...|            0|            0|           67|\n",
            "|ff864ac0-cfda-11e...|            0|            0|           11|\n",
            "+--------------------+-------------+-------------+-------------+\n",
            "\n"
          ]
        }
      ]
    },
    {
      "cell_type": "code",
      "source": [
        "# Sliced data: FEB, MAR, APR\n",
        "spark.sql('''\n",
        "WITH\n",
        "customers_in_may AS (\n",
        "SELECT\n",
        "  DISTINCT member_id\n",
        "FROM\n",
        "  df_2018_view\n",
        "WHERE\n",
        "  transaction_date BETWEEN '2018-05-01' AND '2018-05-31'\n",
        ")\n",
        ",customers_in_may_joined_with_past_3_months_txn AS (\n",
        "SELECT\n",
        "  a.member_id\n",
        "  ,b.quantity\n",
        "  ,b.transaction_date\n",
        "FROM\n",
        "  customers_in_may AS a\n",
        "LEFT JOIN\n",
        "  df_2018_view AS b\n",
        "ON\n",
        "  a.member_id = b.member_id\n",
        "WHERE\n",
        "  b.transaction_date BETWEEN '2018-02-01' AND '2018-05-31'\n",
        ")\n",
        ",aggregated_total_txns_per_month AS (\n",
        "SELECT\n",
        "   member_id\n",
        "  -- Feb transaction count\n",
        "  ,SUM(CASE WHEN transaction_date BETWEEN '2018-02-01' AND '2018-02-28' THEN quantity ELSE 0 END) AS pm4_total_txn\n",
        "  -- Mar transaction count\n",
        "  ,SUM(CASE WHEN transaction_date BETWEEN '2018-03-01' AND '2018-03-31' THEN quantity ELSE 0 END) AS pm3_total_txn\n",
        "  -- Apr transaction count\n",
        "  ,SUM(CASE WHEN transaction_date BETWEEN '2018-04-01' AND '2018-04-30' THEN quantity ELSE 0 END) AS pm2_total_txn\n",
        "FROM\n",
        "  customers_in_may_joined_with_past_3_months_txn\n",
        "GROUP BY\n",
        "  member_id\n",
        ")\n",
        "SELECT\n",
        "  *\n",
        "FROM\n",
        "  aggregated_total_txns_per_month\n",
        "LIMIT\n",
        "  5\n",
        "''').show()"
      ],
      "metadata": {
        "colab": {
          "base_uri": "https://localhost:8080/"
        },
        "id": "jAEw_gb-NIGw",
        "outputId": "1e8cc11d-5355-4dfc-d323-5bc9b0b31075"
      },
      "execution_count": 9,
      "outputs": [
        {
          "output_type": "stream",
          "name": "stdout",
          "text": [
            "+--------------------+-------------+-------------+-------------+\n",
            "|           member_id|pm4_total_txn|pm3_total_txn|pm2_total_txn|\n",
            "+--------------------+-------------+-------------+-------------+\n",
            "|fefb42a6-cfda-11e...|           26|            0|            0|\n",
            "|01283abc-cfdb-11e...|            9|            5|            0|\n",
            "|010f5665-cfdb-11e...|           11|            0|            0|\n",
            "|ff96c597-cfda-11e...|            0|            0|            0|\n",
            "|00285114-cfdb-11e...|            0|            0|           13|\n",
            "+--------------------+-------------+-------------+-------------+\n",
            "\n"
          ]
        }
      ]
    },
    {
      "cell_type": "code",
      "source": [
        "# Slice Data: MAR, APR, MAY\n",
        "spark.sql('''\n",
        "WITH\n",
        "customers_in_jun AS (\n",
        "SELECT\n",
        "  DISTINCT member_id\n",
        "FROM\n",
        "  df_2018_view\n",
        "WHERE\n",
        "  transaction_date BETWEEN '2018-06-01' AND '2018-06-30'\n",
        ")\n",
        ",customers_in_jun_joined_with_past_3_months_txn AS (\n",
        "SELECT\n",
        "  a.member_id\n",
        "  ,b.quantity\n",
        "  ,b.transaction_date\n",
        "FROM\n",
        "  customers_in_jun AS a\n",
        "LEFT JOIN\n",
        "  df_2018_view AS b\n",
        "ON\n",
        "  a.member_id = b.member_id\n",
        "WHERE\n",
        "  b.transaction_date BETWEEN '2018-03-01' AND '2018-06-30'\n",
        ")\n",
        ",aggregated_total_txns_per_month AS (\n",
        "SELECT\n",
        "   member_id\n",
        "  -- Mar transaction count\n",
        "  ,SUM(CASE WHEN transaction_date BETWEEN '2018-03-01' AND '2018-02-31' THEN quantity ELSE 0 END) AS pm5_total_txn\n",
        "  -- Apr transaction count\n",
        "  ,SUM(CASE WHEN transaction_date BETWEEN '2018-04-01' AND '2018-04-30' THEN quantity ELSE 0 END) AS pm4_total_txn\n",
        "  -- May transaction count\n",
        "  ,SUM(CASE WHEN transaction_date BETWEEN '2018-05-01' AND '2018-05-31' THEN quantity ELSE 0 END) AS pm3_total_txn\n",
        "FROM\n",
        "  customers_in_jun_joined_with_past_3_months_txn\n",
        "GROUP BY\n",
        "  member_id\n",
        ")\n",
        "SELECT\n",
        "  *\n",
        "FROM\n",
        "  aggregated_total_txns_per_month\n",
        "LIMIT\n",
        "  5\n",
        "''').show()"
      ],
      "metadata": {
        "colab": {
          "base_uri": "https://localhost:8080/"
        },
        "id": "rW7_P6j0QMgK",
        "outputId": "1b1b2777-d018-4164-bfac-7746d8564514"
      },
      "execution_count": 10,
      "outputs": [
        {
          "output_type": "stream",
          "name": "stdout",
          "text": [
            "+--------------------+-------------+-------------+-------------+\n",
            "|           member_id|pm5_total_txn|pm4_total_txn|pm3_total_txn|\n",
            "+--------------------+-------------+-------------+-------------+\n",
            "|ff406689-cfda-11e...|            0|            0|           41|\n",
            "|ff38edfc-cfda-11e...|            0|            0|            0|\n",
            "|ffa89fdc-cfda-11e...|            0|            0|            0|\n",
            "|fef351b2-cfda-11e...|            0|            0|            0|\n",
            "|ff8203f1-cfda-11e...|            0|            0|            0|\n",
            "+--------------------+-------------+-------------+-------------+\n",
            "\n"
          ]
        }
      ]
    },
    {
      "cell_type": "code",
      "source": [
        "result = spark.sql('''\n",
        "  WITH customers_per_month AS (\n",
        "    SELECT DISTINCT member_id, '2018-04' AS PARTITION_MONTH\n",
        "    FROM df_2018_view WHERE transaction_date BETWEEN '2018-04-01' AND '2018-04-30'\n",
        "\n",
        "    UNION ALL\n",
        "\n",
        "    SELECT DISTINCT member_id, '2018-05' AS PARTITION_MONTH\n",
        "    FROM df_2018_view WHERE transaction_date BETWEEN '2018-05-01' AND '2018-05-31'\n",
        "\n",
        "    UNION ALL\n",
        "\n",
        "    SELECT DISTINCT member_id, '2018-06' AS PARTITION_MONTH\n",
        "    FROM df_2018_view WHERE transaction_date BETWEEN '2018-06-01' AND '2018-06-30'\n",
        "  ),\n",
        "  transactions_history AS (\n",
        "    SELECT\n",
        "      c.member_id,\n",
        "      c.PARTITION_MONTH,\n",
        "      t.quantity,\n",
        "      t.transaction_date\n",
        "    FROM customers_per_month c\n",
        "    LEFT JOIN df_2018_view t\n",
        "    ON c.member_id = t.member_id\n",
        "    WHERE t.transaction_date BETWEEN '2018-01-01' AND '2018-06-30'\n",
        "  ),\n",
        "  aggregated_txns AS (\n",
        "    SELECT\n",
        "      member_id,\n",
        "      SUM(CASE WHEN transaction_date BETWEEN '2018-01-01' AND '2018-01-31' THEN quantity ELSE 0 END) AS pm5_total_txn,\n",
        "      SUM(CASE WHEN transaction_date BETWEEN '2018-02-01' AND '2018-02-28' THEN quantity ELSE 0 END) AS pm4_total_txn,\n",
        "      SUM(CASE WHEN transaction_date BETWEEN '2018-03-01' AND '2018-03-31' THEN quantity ELSE 0 END) AS pm3_total_txn,\n",
        "      SUM(CASE WHEN transaction_date BETWEEN '2018-04-01' AND '2018-04-30' THEN quantity ELSE 0 END) AS pm2_total_txn,\n",
        "      SUM(CASE WHEN transaction_date BETWEEN '2018-05-01' AND '2018-05-31' THEN quantity ELSE 0 END) AS pm1_total_txn,\n",
        "      PARTITION_MONTH\n",
        "    FROM transactions_history\n",
        "    GROUP BY member_id, PARTITION_MONTH\n",
        "  )\n",
        "  SELECT * FROM aggregated_txns\n",
        "''')\n",
        "\n",
        "result.show(10)"
      ],
      "metadata": {
        "colab": {
          "base_uri": "https://localhost:8080/"
        },
        "id": "citenwoEKUdk",
        "outputId": "bac2ad47-9f7c-4951-d586-90f11ac3194b"
      },
      "execution_count": 11,
      "outputs": [
        {
          "output_type": "stream",
          "name": "stdout",
          "text": [
            "+--------------------+-------------+-------------+-------------+-------------+-------------+---------------+\n",
            "|           member_id|pm5_total_txn|pm4_total_txn|pm3_total_txn|pm2_total_txn|pm1_total_txn|PARTITION_MONTH|\n",
            "+--------------------+-------------+-------------+-------------+-------------+-------------+---------------+\n",
            "|ffdf410a-cfda-11e...|            0|            0|            0|           73|            0|        2018-04|\n",
            "|009a2599-cfdb-11e...|            0|            0|            0|           68|            0|        2018-04|\n",
            "|ffff6c82-cfda-11e...|            0|            0|            0|           30|            0|        2018-04|\n",
            "|ffd15e3f-cfda-11e...|            0|           18|            0|           73|           35|        2018-04|\n",
            "|ffd86309-cfda-11e...|            0|            0|            0|           19|            0|        2018-04|\n",
            "|fffe81f0-cfda-11e...|            0|            0|            0|           21|            0|        2018-04|\n",
            "|ff4659d3-cfda-11e...|            0|            0|           11|            9|            0|        2018-04|\n",
            "|0046fcf0-cfdb-11e...|            0|            0|            0|           25|           13|        2018-04|\n",
            "|ff2a1f27-cfda-11e...|           15|           25|           24|           18|            0|        2018-04|\n",
            "|ff9d53c6-cfda-11e...|           10|           38|            0|           17|            0|        2018-04|\n",
            "+--------------------+-------------+-------------+-------------+-------------+-------------+---------------+\n",
            "only showing top 10 rows\n",
            "\n"
          ]
        }
      ]
    },
    {
      "cell_type": "code",
      "source": [
        "spark.sql('''\n",
        "WITH\n",
        "customers_in_april AS (\n",
        "SELECT\n",
        "  DISTINCT member_id\n",
        "FROM\n",
        "  df_2018_view\n",
        "WHERE\n",
        "  transaction_date BETWEEN '2018-04-01' AND '2018-04-30'\n",
        ")\n",
        ",customers_in_april_joined_with_past_3_months_txn AS (\n",
        "SELECT\n",
        "  a.member_id\n",
        "  ,b.quantity\n",
        "  ,b.transaction_date\n",
        "FROM\n",
        "  customers_in_april AS a\n",
        "LEFT JOIN\n",
        "  df_2018_view AS b\n",
        "ON\n",
        "  a.member_id = b.member_id\n",
        "WHERE\n",
        "  b.transaction_date BETWEEN '2018-01-01' AND '2018-03-31'\n",
        ")\n",
        ",aggregated_total_txns_per_month_jan_mar AS (\n",
        "SELECT\n",
        "   member_id\n",
        "  -- Jan transaction count\n",
        "  ,SUM(CASE WHEN transaction_date BETWEEN '2018-01-01' AND '2018-01-31' THEN quantity ELSE 0 END) AS pm3_total_txn\n",
        "  -- Feb transaction count\n",
        "  ,SUM(CASE WHEN transaction_date BETWEEN '2018-02-01' AND '2018-02-28' THEN quantity ELSE 0 END) AS pm2_total_txn\n",
        "  -- Mar transaction count\n",
        "  ,SUM(CASE WHEN transaction_date BETWEEN '2018-03-01' AND '2018-03-31' THEN quantity ELSE 0 END) AS pm1_total_txn\n",
        "  ,'2018-04-01' AS PARTITION_MONTH\n",
        "FROM\n",
        "  customers_in_april_joined_with_past_3_months_txn\n",
        "GROUP BY\n",
        "  member_id\n",
        ")\n",
        "\n",
        ", customers_in_may AS (\n",
        "SELECT\n",
        "  DISTINCT member_id\n",
        "FROM\n",
        "  df_2018_view\n",
        "WHERE\n",
        "  transaction_date BETWEEN '2018-05-01' AND '2018-05-31'\n",
        ")\n",
        ",customers_in_may_joined_with_past_3_months_txn AS (\n",
        "SELECT\n",
        "  a.member_id\n",
        "  ,b.quantity\n",
        "  ,b.transaction_date\n",
        "FROM\n",
        "  customers_in_may AS a\n",
        "LEFT JOIN\n",
        "  df_2018_view AS b\n",
        "ON\n",
        "  a.member_id = b.member_id\n",
        "WHERE\n",
        "  b.transaction_date BETWEEN '2018-02-01' AND '2018-04-30'\n",
        ")\n",
        ",aggregated_total_txns_per_month_feb_apr AS (\n",
        "SELECT\n",
        "   member_id\n",
        "  -- Feb transaction count\n",
        "  ,SUM(CASE WHEN transaction_date BETWEEN '2018-02-01' AND '2018-02-28' THEN quantity ELSE 0 END) AS pm3_total_txn\n",
        "  -- Mar transaction count\n",
        "  ,SUM(CASE WHEN transaction_date BETWEEN '2018-03-01' AND '2018-03-31' THEN quantity ELSE 0 END) AS pm2_total_txn\n",
        "  -- Apr transaction count\n",
        "  ,SUM(CASE WHEN transaction_date BETWEEN '2018-04-01' AND '2018-04-30' THEN quantity ELSE 0 END) AS pm1_total_txn\n",
        "  ,'2018-05-01' AS PARTITION_MONTH\n",
        "FROM\n",
        "  customers_in_may_joined_with_past_3_months_txn\n",
        "GROUP BY\n",
        "  member_id\n",
        ")\n",
        "\n",
        "\n",
        ", customers_in_jun AS (\n",
        "SELECT\n",
        "  DISTINCT member_id\n",
        "FROM\n",
        "  df_2018_view\n",
        "WHERE\n",
        "  transaction_date BETWEEN '2018-06-01' AND '2018-06-30'\n",
        ")\n",
        ",customers_in_jun_joined_with_past_3_months_txn AS (\n",
        "SELECT\n",
        "  a.member_id\n",
        "  ,b.quantity\n",
        "  ,b.transaction_date\n",
        "FROM\n",
        "  customers_in_jun AS a\n",
        "LEFT JOIN\n",
        "  df_2018_view AS b\n",
        "ON\n",
        "  a.member_id = b.member_id\n",
        "WHERE\n",
        "  b.transaction_date BETWEEN '2018-03-01' AND '2018-05-31'\n",
        ")\n",
        ",aggregated_total_txns_per_month_mar_may AS (\n",
        "SELECT\n",
        "   member_id\n",
        "  -- Mar transaction count\n",
        "  ,SUM(CASE WHEN transaction_date BETWEEN '2018-03-01' AND '2018-03-31' THEN quantity ELSE 0 END) AS pm3_total_txn\n",
        "  -- Apr transaction count\n",
        "  ,SUM(CASE WHEN transaction_date BETWEEN '2018-04-01' AND '2018-04-30' THEN quantity ELSE 0 END) AS pm2_total_txn\n",
        "  -- May transaction count\n",
        "  ,SUM(CASE WHEN transaction_date BETWEEN '2018-05-01' AND '2018-05-31' THEN quantity ELSE 0 END) AS pm1_total_txn\n",
        "  ,'2018-06-01' AS PARTITION_MONTH\n",
        "FROM\n",
        "  customers_in_jun_joined_with_past_3_months_txn\n",
        "GROUP BY\n",
        "  member_id\n",
        ")\n",
        "\n",
        ", union_all_tables AS (\n",
        "  SELECT * FROM aggregated_total_txns_per_month_jan_mar\n",
        "  UNION\n",
        "  SELECT * FROM aggregated_total_txns_per_month_feb_apr\n",
        "  UNION\n",
        "  SELECT * FROM aggregated_total_txns_per_month_mar_may\n",
        "  )\n",
        "SELECT\n",
        "    PARTITION_MONTH,\n",
        "    COUNT(member_id) AS total_member_id\n",
        "FROM\n",
        "    union_all_tables\n",
        "GROUP BY\n",
        "    PARTITION_MONTH\n",
        "ORDER BY\n",
        "    PARTITION_MONTH\n",
        "''').show()"
      ],
      "metadata": {
        "colab": {
          "base_uri": "https://localhost:8080/"
        },
        "id": "zS_2VbDibNx1",
        "outputId": "a7cb6ba4-6a49-4b61-efe3-1b5b7cc36a5c"
      },
      "execution_count": 12,
      "outputs": [
        {
          "output_type": "stream",
          "name": "stdout",
          "text": [
            "+---------------+---------------+\n",
            "|PARTITION_MONTH|total_member_id|\n",
            "+---------------+---------------+\n",
            "|     2018-04-01|          59143|\n",
            "|     2018-05-01|          84325|\n",
            "|     2018-06-01|          89658|\n",
            "+---------------+---------------+\n",
            "\n"
          ]
        }
      ]
    },
    {
      "cell_type": "code",
      "source": [
        "spark.sql('''\n",
        "WITH\n",
        "customers_in_july AS (\n",
        "SELECT\n",
        "  DISTINCT member_id\n",
        "FROM\n",
        "  df_2018_view\n",
        "WHERE\n",
        "  transaction_date BETWEEN '2018-07-01' AND '2018-07-31'\n",
        ")\n",
        ",customers_in_july_joined_with_past_transactions AS (\n",
        "SELECT\n",
        "  a.member_id\n",
        "  ,b.quantity\n",
        "  ,b.amount\n",
        "  ,b.transaction_date\n",
        "FROM\n",
        "  customers_in_july AS a\n",
        "LEFT JOIN\n",
        "  df_2018_view AS b\n",
        "ON\n",
        "  a.member_id = b.member_id\n",
        "AND\n",
        "  b.transaction_date BETWEEN '2018-01-01' AND '2018-06-30'\n",
        ")\n",
        ",aggregated_total_txns_per_month AS (\n",
        "SELECT\n",
        "   member_id\n",
        "  ,SUM(CASE WHEN transaction_date BETWEEN '2018-04-01' AND '2018-04-30' THEN quantity ELSE 0 END) AS pm3_total_txn\n",
        "  ,SUM(CASE WHEN transaction_date BETWEEN '2018-05-01' AND '2018-05-31' THEN quantity ELSE 0 END) AS pm2_total_txn\n",
        "  ,SUM(CASE WHEN transaction_date BETWEEN '2018-06-01' AND '2018-06-30' THEN quantity ELSE 0 END) AS pm1_total_txn\n",
        "  ,SUM(CASE WHEN transaction_date BETWEEN '2018-07-01' AND '2018-07-31' THEN quantity ELSE 0 END) AS pm0_total_txn\n",
        "  ,'2018-07-01' AS PARTITION_MONTH\n",
        "FROM\n",
        "  customers_in_july_joined_with_past_transactions\n",
        "GROUP BY\n",
        "  member_id\n",
        ")\n",
        ",customers_with_target_definition AS (\n",
        "SELECT\n",
        "  *\n",
        "  ,CASE\n",
        "    WHEN pm1_total_txn = 0 AND pm2_total_txn = 0 AND pm3_total_txn = 0 THEN 1\n",
        "    ELSE 0\n",
        "    END AS target\n",
        "FROM\n",
        "  aggregated_total_txns_per_month\n",
        ")\n",
        ",customers_joined_with_features AS (\n",
        "SELECT\n",
        "  a.member_id\n",
        "  ,b.quantity\n",
        "  ,b.amount\n",
        "  ,b.category_name\n",
        "  ,b.transaction_date\n",
        "FROM\n",
        "  customers_in_july AS a\n",
        "LEFT JOIN\n",
        "  df_2018_view AS b\n",
        "ON\n",
        "  a.member_id = b.member_id\n",
        "AND\n",
        "  b.transaction_date BETWEEN '2018-01-01' AND '2018-03-31'\n",
        ")\n",
        ",aggregated_categories AS (\n",
        "SELECT\n",
        "   member_id\n",
        "\n",
        "  ,SUM(CASE WHEN transaction_date BETWEEN '2018-01-01' AND '2018-03-31' AND category_name IN ('ACCESSORIES') THEN amount ELSE 0 END) AS pm_accessories\n",
        "  ,SUM(CASE WHEN transaction_date BETWEEN '2018-01-01' AND '2018-03-31' AND category_name IN ('APPLIANCES') THEN amount ELSE 0 END) AS pm_appliances\n",
        "  ,SUM(CASE WHEN transaction_date BETWEEN '2018-01-01' AND '2018-03-31' AND category_name IN ('CLEANERS') THEN amount ELSE 0 END) AS pm_cleaners\n",
        "\n",
        "  ,SUM(CASE WHEN transaction_date BETWEEN '2018-01-01' AND '2018-03-31' AND category_name IN ('CLOTHES') THEN amount ELSE 0 END) AS pm_clothes\n",
        "  ,SUM(CASE WHEN transaction_date BETWEEN '2018-01-01' AND '2018-03-31' AND category_name IN ('FOOD') THEN amount ELSE 0 END) AS pm_food\n",
        "  ,SUM(CASE WHEN transaction_date BETWEEN '2018-01-01' AND '2018-03-31' AND category_name IN ('FROZEN FOOD') THEN amount ELSE 0 END) AS pm_frozen_food\n",
        "\n",
        "  ,SUM(CASE WHEN transaction_date BETWEEN '2018-01-01' AND '2018-03-31' AND category_name IN ('GADGETS') THEN amount ELSE 0 END) AS pm_gadgets\n",
        "  ,SUM(CASE WHEN transaction_date BETWEEN '2018-01-01' AND '2018-03-31' AND category_name IN ('HARDWARE') THEN amount ELSE 0 END) AS pm_hardware\n",
        "  ,SUM(CASE WHEN transaction_date BETWEEN '2018-01-01' AND '2018-03-31' AND category_name IN ('PET') THEN amount ELSE 0 END) AS pm_pet\n",
        "\n",
        "  ,SUM(CASE WHEN transaction_date BETWEEN '2018-01-01' AND '2018-03-31' AND category_name IN ('SHOES') THEN amount ELSE 0 END) AS pm_shoes\n",
        "\n",
        "FROM\n",
        "  customers_joined_with_features\n",
        "GROUP BY\n",
        "  member_id\n",
        ")\n",
        ",customers_with_target_joined_with_features AS (\n",
        "SELECT\n",
        "  a.member_id\n",
        "  ,a.target\n",
        "  ,b.pm_accessories\n",
        "  ,b.pm_appliances\n",
        "  ,b.pm_cleaners\n",
        "  ,b.pm_clothes\n",
        "  ,b.pm_food\n",
        "  ,b.pm_frozen_food\n",
        "  ,b.pm_gadgets\n",
        "  ,b.pm_hardware\n",
        "  ,b.pm_pet\n",
        "  ,b.pm_shoes\n",
        "FROM\n",
        "  customers_with_target_definition AS a\n",
        "LEFT JOIN\n",
        "  aggregated_categories AS b\n",
        "ON\n",
        "  a.member_id = b.member_id\n",
        ")\n",
        "\n",
        ",count_customers_with_target_definition AS (\n",
        "SELECT\n",
        "  target\n",
        "  ,COUNT(member_id) AS cnt_member_id\n",
        "  ,COUNT(DISTINCT member_id) AS cntd_member_id\n",
        "FROM\n",
        "  customers_with_target_definition\n",
        "GROUP BY\n",
        "  target\n",
        ")\n",
        "\n",
        "SELECT\n",
        "  *\n",
        "FROM\n",
        "  count_customers_with_target_definition\n",
        "''').show()"
      ],
      "metadata": {
        "colab": {
          "base_uri": "https://localhost:8080/"
        },
        "id": "yirWcAZ0O4H1",
        "outputId": "7439fba3-a4d0-4d54-ed64-45442d6b7ee9"
      },
      "execution_count": 13,
      "outputs": [
        {
          "output_type": "stream",
          "name": "stdout",
          "text": [
            "+------+-------------+--------------+\n",
            "|target|cnt_member_id|cntd_member_id|\n",
            "+------+-------------+--------------+\n",
            "|     1|        15873|         15873|\n",
            "|     0|        34794|         34794|\n",
            "+------+-------------+--------------+\n",
            "\n"
          ]
        }
      ]
    },
    {
      "cell_type": "code",
      "source": [
        "34794/((15873+34794))"
      ],
      "metadata": {
        "colab": {
          "base_uri": "https://localhost:8080/"
        },
        "id": "jviMRiW4zOJp",
        "outputId": "ece357fd-b552-4d7d-e0ac-ac359d062304"
      },
      "execution_count": 14,
      "outputs": [
        {
          "output_type": "execute_result",
          "data": {
            "text/plain": [
              "0.6867191663212742"
            ]
          },
          "metadata": {},
          "execution_count": 14
        }
      ]
    },
    {
      "cell_type": "code",
      "source": [
        "# Churn rate in %\n",
        "34794/((15873+34794))*100"
      ],
      "metadata": {
        "colab": {
          "base_uri": "https://localhost:8080/"
        },
        "id": "JLOwgAYIPFSm",
        "outputId": "ebe1737f-e04b-412d-e0c9-722a241790a2"
      },
      "execution_count": 15,
      "outputs": [
        {
          "output_type": "execute_result",
          "data": {
            "text/plain": [
              "68.67191663212742"
            ]
          },
          "metadata": {},
          "execution_count": 15
        }
      ]
    }
  ]
}